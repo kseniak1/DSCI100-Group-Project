{
 "cells": [
  {
   "cell_type": "code",
   "execution_count": 9,
   "metadata": {},
   "outputs": [],
   "source": [
    "library(tidyverse)"
   ]
  },
  {
   "cell_type": "code",
   "execution_count": 16,
   "metadata": {},
   "outputs": [
    {
     "ename": "ERROR",
     "evalue": "Error in open.connection(con, \"rb\"): HTTP error 404.\n",
     "output_type": "error",
     "traceback": [
      "Error in open.connection(con, \"rb\"): HTTP error 404.\nTraceback:\n",
      "1. read_csv(\"https://archive.ics.uci.edu/ml/machine-learning-databases/00372/HTRU2/HTRU2.csv\")",
      "2. read_delimited(file, tokenizer, col_names = col_names, col_types = col_types, \n .     locale = locale, skip = skip, skip_empty_rows = skip_empty_rows, \n .     comment = comment, n_max = n_max, guess_max = guess_max, \n .     progress = progress)",
      "3. datasource_connection(file, skip, skip_empty_rows, comment)",
      "4. read_connection(path)",
      "5. open(con, \"rb\")",
      "6. open.connection(con, \"rb\")"
     ]
    }
   ],
   "source": [
    "pulsar_data <- read_csv(\"https://archive.ics.uci.edu/ml/machine-learning-databases/00372/HTRU2/HTRU2.csv\")\n",
    "pulsar_data"
   ]
  },
  {
   "cell_type": "code",
   "execution_count": null,
   "metadata": {},
   "outputs": [],
   "source": []
  }
 ],
 "metadata": {
  "kernelspec": {
   "display_name": "R",
   "language": "R",
   "name": "ir"
  },
  "language_info": {
   "codemirror_mode": "r",
   "file_extension": ".r",
   "mimetype": "text/x-r-source",
   "name": "R",
   "pygments_lexer": "r",
   "version": "4.0.0"
  }
 },
 "nbformat": 4,
 "nbformat_minor": 4
}
